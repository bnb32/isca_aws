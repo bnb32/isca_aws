{
 "cells": [
  {
   "cell_type": "code",
   "execution_count": 417,
   "id": "5db0513e-97de-4ff0-af42-10d514c0022c",
   "metadata": {},
   "outputs": [],
   "source": [
    "import xarray as xr\n",
    "import netCDF4 as nc\n",
    "import plotly\n",
    "import chart_studio.plotly as py\n",
    "import plotly.offline as py_off\n",
    "#from plotly.graph_objs import *\n",
    "import numpy as np\n",
    "from scipy.io import netcdf\n",
    "import plotly.express as px\n",
    "import plotly.graph_objects as go\n",
    "import plotly.io as pio\n",
    "pio.renderers.default = 'iframe'\n",
    "import cartopy.feature as cf\n",
    "#from mpl_toolkits.basemap import Basemap"
   ]
  },
  {
   "cell_type": "code",
   "execution_count": 401,
   "id": "ef46f6e8-9229-4c2b-a8e8-e84057ed5fdf",
   "metadata": {},
   "outputs": [],
   "source": [
    "file = '/data/bnb32/gfdl_data/held_suarez_default/run0001/atmos_monthly.nc'"
   ]
  },
  {
   "cell_type": "code",
   "execution_count": 442,
   "id": "78b208e1-f561-449d-90ba-ac73abb12fec",
   "metadata": {},
   "outputs": [],
   "source": [
    "def plot_field(file,field,level=None):\n",
    "\n",
    "    ds = xr.open_dataset(xr.backends.NetCDF4DataStore(nc.Dataset(file)))\n",
    "    print(ds)\n",
    "    df = ds[['lon','lat',f'{field}']].to_dataframe()\n",
    "    \n",
    "    if level is not None:\n",
    "        levels = df.index.get_level_values('pfull')\n",
    "        level = levels[np.argmin(np.abs(levels-level))]\n",
    "        df = df[df.index.get_level_values('pfull') == level]\n",
    "    \n",
    "    step = 1.0\n",
    "    to_bin = lambda x: np.floor(x / step) * step\n",
    "    df[\"lat\"] = df.index.get_level_values('lat').map(to_bin)\n",
    "    df[\"lon\"] = df.index.get_level_values('lon').map(to_bin)\n",
    "    \n",
    "    df.reset_index(drop=True, inplace=True)\n",
    "    \n",
    "    groups = df.groupby([\"lat\", \"lon\"])\n",
    "    df_flat = df.drop_duplicates(subset=['lat', 'lon'])\n",
    "    df = df_flat[np.isfinite(df_flat[f'{field}'])]\n",
    "    df = df[(df.lat <= 90.0) & \n",
    "            (df.lat >= -90.0) & \n",
    "            (df.lon <= 360.0) & \n",
    "            (df.lon >= 0)]\n",
    "    \n",
    "    df['lon'] = df['lon'].apply(lambda x: x if x <= 180.0 else x-360.0)\n",
    "    \n",
    "    x_coords = []\n",
    "    y_coords = []\n",
    "    traces = []\n",
    "    for coord_seq in cf.COASTLINE.geometries():\n",
    "        x_coords.extend([k[0] for k in coord_seq.coords] + [np.nan])\n",
    "        y_coords.extend([k[1] for k in coord_seq.coords] + [np.nan])  \n",
    "    \n",
    "    ## in your app callback for dash\n",
    "    trace = go.Scatter(x = x_coords,\n",
    "                       y = y_coords,\n",
    "                       mode = 'lines',\n",
    "                       line=go.Line(color=\"black\"))\n",
    "    traces.append(trace)\n",
    "    \n",
    "    contours = go.Contour(z=df[f'{field}'],\n",
    "                          x=df['lon'],\n",
    "                          y=df['lat'],\n",
    "                          colorscale=\"RdBu\",\n",
    "                          zauto=False,  # custom contour levels\n",
    "                          zmin=min(df[f'{field}']),      # first contour level\n",
    "                          zmax=max(df[f'{field}'])        # last contour level  => colorscale is centered about 0\n",
    "                          )\n",
    "    data = go.Data([contours]+traces)\n",
    "    \n",
    "    layout = Layout(\n",
    "    paper_bgcolor='rgba(0,0,0,0)',\n",
    "    #plot_bgcolor='rgba(0,0,0,0)'\n",
    "    )\n",
    "\n",
    "    fig = Figure(data=data,layout=layout)\n",
    "    fig.show()\n",
    "    "
   ]
  },
  {
   "cell_type": "code",
   "execution_count": 444,
   "id": "a2dfba1d-446d-409a-b5e6-52dc5aa6f44b",
   "metadata": {},
   "outputs": [
    {
     "name": "stdout",
     "output_type": "stream",
     "text": [
      "<xarray.Dataset>\n",
      "Dimensions:      (lon: 128, lonb: 129, lat: 64, latb: 65, time: 1, nv: 2, phalf: 26, pfull: 25)\n",
      "Coordinates:\n",
      "  * lon          (lon) float64 0.0 2.812 5.625 8.438 ... 348.8 351.6 354.4 357.2\n",
      "  * lonb         (lonb) float64 -1.406 1.406 4.219 7.031 ... 353.0 355.8 358.6\n",
      "  * lat          (lat) float64 -87.86 -85.1 -82.31 -79.53 ... 82.31 85.1 87.86\n",
      "  * latb         (latb) float64 -90.0 -86.58 -83.76 -80.96 ... 83.76 86.58 90.0\n",
      "  * time         (time) object 2000-01-16 00:00:00\n",
      "  * nv           (nv) float64 1.0 2.0\n",
      "  * phalf        (phalf) float64 0.0 6.165 12.71 22.59 ... 786.6 886.9 1e+03\n",
      "  * pfull        (pfull) float64 2.268 9.244 17.42 28.92 ... 741.7 836.3 942.9\n",
      "Data variables:\n",
      "    ps           (time, lat, lon) float32 ...\n",
      "    bk           (phalf) float32 ...\n",
      "    pk           (phalf) float32 ...\n",
      "    ucomp        (time, pfull, lat, lon) float32 ...\n",
      "    vcomp        (time, pfull, lat, lon) float32 ...\n",
      "    temp         (time, pfull, lat, lon) float32 ...\n",
      "    vor          (time, pfull, lat, lon) float32 ...\n",
      "    div          (time, pfull, lat, lon) float32 ...\n",
      "    average_T1   (time) datetime64[ns] ...\n",
      "    average_T2   (time) datetime64[ns] ...\n",
      "    average_DT   (time) timedelta64[ns] ...\n",
      "    time_bounds  (time, nv) timedelta64[ns] ...\n",
      "Attributes:\n",
      "    filename:   /data/bnb32/gfdl_work/experiment/held_suarez_default/run/atmo...\n",
      "    title:      FMS Model results\n",
      "    grid_type:  regular\n",
      "    grid_tile:  N/A\n"
     ]
    },
    {
     "data": {
      "text/html": [
       "<iframe\n",
       "    scrolling=\"no\"\n",
       "    width=\"100%\"\n",
       "    height=\"545px\"\n",
       "    src=\"iframe_figures/figure_444.html\"\n",
       "    frameborder=\"0\"\n",
       "    allowfullscreen\n",
       "></iframe>\n"
      ]
     },
     "metadata": {},
     "output_type": "display_data"
    }
   ],
   "source": [
    "plot_field(file,'div',250)"
   ]
  },
  {
   "cell_type": "code",
   "execution_count": null,
   "id": "df30f8c0-ca88-462f-8bbb-b82e1d0a033b",
   "metadata": {},
   "outputs": [],
   "source": []
  }
 ],
 "metadata": {
  "kernelspec": {
   "display_name": "Python 3 (ipykernel)",
   "language": "python",
   "name": "python3"
  },
  "language_info": {
   "codemirror_mode": {
    "name": "ipython",
    "version": 3
   },
   "file_extension": ".py",
   "mimetype": "text/x-python",
   "name": "python",
   "nbconvert_exporter": "python",
   "pygments_lexer": "ipython3",
   "version": "3.9.7"
  }
 },
 "nbformat": 4,
 "nbformat_minor": 5
}
